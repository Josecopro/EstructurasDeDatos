{
 "cells": [
  {
   "cell_type": "code",
   "execution_count": null,
   "metadata": {},
   "outputs": [],
   "source": [
    "class PriorityQueue:\n",
    "\n",
    "    def __init__(self):\n",
    "        self._queue = []\n",
    "        self._index = 0\n",
    "\n",
    "    def push(self, item):\n",
    "        self._queue.append(item)\n",
    "        self._index += 1\n",
    "        self._queue.sort()\n",
    "\n",
    "    def pop(self):\n",
    "        return self._queue.pop()[2]\n",
    "    \n",
    "    def First(self):\n",
    "        if self._queue:\n",
    "            return self._queue[0][2]\n",
    "        return None\n",
    "    \n",
    "    def __lt__(self, other):\n",
    "        return self._queue[0] < other._queue[0]"
   ]
  }
 ],
 "metadata": {
  "language_info": {
   "name": "python"
  }
 },
 "nbformat": 4,
 "nbformat_minor": 2
}
