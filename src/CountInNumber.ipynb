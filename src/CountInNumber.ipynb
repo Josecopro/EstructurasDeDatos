{
 "cells": [
  {
   "cell_type": "code",
   "execution_count": null,
   "metadata": {},
   "outputs": [
    {
     "data": {
      "text/plain": [
       "77\n",
       "7\n",
       "0\n"
      ]
     },
     "metadata": {},
     "output_type": "display_data"
    }
   ],
   "source": [
    "bumber = 777\n",
    "bumber = bumber // 10 \n",
    "print(bumber)\n",
    "bumber = bumber // 10\n",
    "print(bumber)\n",
    "bumber = bumber // 10 \n",
    "print(bumber)"
   ]
  },
  {
   "cell_type": "code",
   "execution_count": null,
   "metadata": {},
   "outputs": [
    {
     "data": {
      "text/plain": [
       "6\n"
      ]
     },
     "metadata": {},
     "output_type": "display_data"
    }
   ],
   "source": [
    "def CountDigits(Number, count = 0):\n",
    "    if Number == 0:\n",
    "        return count\n",
    "    else:\n",
    "        return CountDigits(Number//10, count+1)\n",
    "\n",
    "a = 777712\n",
    "print(CountDigits(a))"
   ]
  },
  {
   "cell_type": "code",
   "execution_count": null,
   "metadata": {},
   "outputs": [
    {
     "data": {
      "text/plain": [
       "['l', 'a', 'o']\n"
      ]
     },
     "metadata": {},
     "output_type": "display_data"
    }
   ],
   "source": [
    "Word = \"ola\"\n",
    "\n",
    "NewList = list(Word)\n",
    "LastLetter = NewList[0]\n",
    "NewList.pop(0)\n",
    "NewList.append(LastLetter)\n",
    "print(NewList)"
   ]
  }
 ],
 "metadata": {
  "language_info": {
   "name": "python"
  }
 },
 "nbformat": 4,
 "nbformat_minor": 2
}
